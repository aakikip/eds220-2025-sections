{
 "cells": [
  {
   "cell_type": "markdown",
   "id": "aef850b6-f5f3-42f8-b194-874b1395b000",
   "metadata": {},
   "source": [
    "# Snowshoe hares at Bonanza Creek Experimental Forest\n",
    "\n",
    "## **Week 3 - Discussion section**"
   ]
  },
  {
   "cell_type": "markdown",
   "id": "c487b5f8-d050-4b31-9b81-2eef20550c27",
   "metadata": {},
   "source": [
    "### Load library"
   ]
  },
  {
   "cell_type": "code",
   "execution_count": 1,
   "id": "1ccbf887-4d00-45a7-a4f8-6714d56404b5",
   "metadata": {
    "tags": []
   },
   "outputs": [],
   "source": [
    "# Load library\n",
    "import pandas as pd\n",
    "import numpy as np"
   ]
  },
  {
   "cell_type": "markdown",
   "id": "6f1a0e2a-18b9-46e1-b181-adbb4d19fbf2",
   "metadata": {},
   "source": [
    "### Add image"
   ]
  },
  {
   "cell_type": "markdown",
   "id": "cd93a3b0-8556-4908-aacf-dede7b097869",
   "metadata": {},
   "source": [
    "![Cutie Hare](https://upload.wikimedia.org/wikipedia/commons/thumb/8/8a/SNOWSHOE_HARE_%28Lepus_americanus%29_%285-28-2015%29_quoddy_head%2C_washington_co%2C_maine_-01_%2818988734889%29.jpg/1452px-SNOWSHOE_HARE_%28Lepus_americanus%29_%285-28-2015%29_quoddy_head%2C_washington_co%2C_maine_-01_%2818988734889%29.jpg?20170313021652)"
   ]
  },
  {
   "cell_type": "markdown",
   "id": "58f30242-276e-4e84-a5e4-014317ca9873",
   "metadata": {},
   "source": [
    "This file is made available under the Creative Commons CC0 1.0 Universal Public Domain Dedication.\n",
    "The person who associated a work with this deed has dedicated the work to the public domain by waiving all of their rights to the work worldwide under copyright law, including all related and neighboring rights, to the extent allowed by law. You can copy, modify, distribute and perform the work, even for commercial purposes, all without asking permission."
   ]
  },
  {
   "cell_type": "markdown",
   "id": "0bfa3066-8435-443b-aac0-21558832fd38",
   "metadata": {},
   "source": [
    "### Data loading and preliminary exploration"
   ]
  },
  {
   "cell_type": "code",
   "execution_count": 2,
   "id": "a52a046e-8199-4eff-a0ad-550f38089766",
   "metadata": {
    "tags": []
   },
   "outputs": [
    {
     "data": {
      "text/html": [
       "<div>\n",
       "<style scoped>\n",
       "    .dataframe tbody tr th:only-of-type {\n",
       "        vertical-align: middle;\n",
       "    }\n",
       "\n",
       "    .dataframe tbody tr th {\n",
       "        vertical-align: top;\n",
       "    }\n",
       "\n",
       "    .dataframe thead th {\n",
       "        text-align: right;\n",
       "    }\n",
       "</style>\n",
       "<table border=\"1\" class=\"dataframe\">\n",
       "  <thead>\n",
       "    <tr style=\"text-align: right;\">\n",
       "      <th></th>\n",
       "      <th>date</th>\n",
       "      <th>time</th>\n",
       "      <th>grid</th>\n",
       "      <th>trap</th>\n",
       "      <th>l_ear</th>\n",
       "      <th>r_ear</th>\n",
       "      <th>sex</th>\n",
       "      <th>age</th>\n",
       "      <th>weight</th>\n",
       "      <th>hindft</th>\n",
       "      <th>notes</th>\n",
       "      <th>b_key</th>\n",
       "      <th>session_id</th>\n",
       "      <th>study</th>\n",
       "    </tr>\n",
       "  </thead>\n",
       "  <tbody>\n",
       "    <tr>\n",
       "      <th>0</th>\n",
       "      <td>11/26/1998</td>\n",
       "      <td>NaN</td>\n",
       "      <td>bonrip</td>\n",
       "      <td>1A</td>\n",
       "      <td>414D096A08</td>\n",
       "      <td>NaN</td>\n",
       "      <td>NaN</td>\n",
       "      <td>NaN</td>\n",
       "      <td>1370.0</td>\n",
       "      <td>160.0</td>\n",
       "      <td>NaN</td>\n",
       "      <td>917.0</td>\n",
       "      <td>51</td>\n",
       "      <td>Population</td>\n",
       "    </tr>\n",
       "    <tr>\n",
       "      <th>1</th>\n",
       "      <td>11/26/1998</td>\n",
       "      <td>NaN</td>\n",
       "      <td>bonrip</td>\n",
       "      <td>2C</td>\n",
       "      <td>414D320671</td>\n",
       "      <td>NaN</td>\n",
       "      <td>M</td>\n",
       "      <td>NaN</td>\n",
       "      <td>1430.0</td>\n",
       "      <td>NaN</td>\n",
       "      <td>NaN</td>\n",
       "      <td>936.0</td>\n",
       "      <td>51</td>\n",
       "      <td>Population</td>\n",
       "    </tr>\n",
       "    <tr>\n",
       "      <th>2</th>\n",
       "      <td>11/26/1998</td>\n",
       "      <td>NaN</td>\n",
       "      <td>bonrip</td>\n",
       "      <td>2D</td>\n",
       "      <td>414D103E3A</td>\n",
       "      <td>NaN</td>\n",
       "      <td>M</td>\n",
       "      <td>NaN</td>\n",
       "      <td>1430.0</td>\n",
       "      <td>NaN</td>\n",
       "      <td>NaN</td>\n",
       "      <td>921.0</td>\n",
       "      <td>51</td>\n",
       "      <td>Population</td>\n",
       "    </tr>\n",
       "    <tr>\n",
       "      <th>3</th>\n",
       "      <td>11/26/1998</td>\n",
       "      <td>NaN</td>\n",
       "      <td>bonrip</td>\n",
       "      <td>2E</td>\n",
       "      <td>414D262D43</td>\n",
       "      <td>NaN</td>\n",
       "      <td>NaN</td>\n",
       "      <td>NaN</td>\n",
       "      <td>1490.0</td>\n",
       "      <td>135.0</td>\n",
       "      <td>NaN</td>\n",
       "      <td>931.0</td>\n",
       "      <td>51</td>\n",
       "      <td>Population</td>\n",
       "    </tr>\n",
       "    <tr>\n",
       "      <th>4</th>\n",
       "      <td>11/26/1998</td>\n",
       "      <td>NaN</td>\n",
       "      <td>bonrip</td>\n",
       "      <td>3B</td>\n",
       "      <td>414D2B4B58</td>\n",
       "      <td>NaN</td>\n",
       "      <td>NaN</td>\n",
       "      <td>NaN</td>\n",
       "      <td>1710.0</td>\n",
       "      <td>150.0</td>\n",
       "      <td>NaN</td>\n",
       "      <td>933.0</td>\n",
       "      <td>51</td>\n",
       "      <td>Population</td>\n",
       "    </tr>\n",
       "    <tr>\n",
       "      <th>...</th>\n",
       "      <td>...</td>\n",
       "      <td>...</td>\n",
       "      <td>...</td>\n",
       "      <td>...</td>\n",
       "      <td>...</td>\n",
       "      <td>...</td>\n",
       "      <td>...</td>\n",
       "      <td>...</td>\n",
       "      <td>...</td>\n",
       "      <td>...</td>\n",
       "      <td>...</td>\n",
       "      <td>...</td>\n",
       "      <td>...</td>\n",
       "      <td>...</td>\n",
       "    </tr>\n",
       "    <tr>\n",
       "      <th>3375</th>\n",
       "      <td>8/8/2002</td>\n",
       "      <td>18:00:00</td>\n",
       "      <td>bonrip</td>\n",
       "      <td>1b</td>\n",
       "      <td>1201</td>\n",
       "      <td>1202</td>\n",
       "      <td>NaN</td>\n",
       "      <td>NaN</td>\n",
       "      <td>1400.0</td>\n",
       "      <td>NaN</td>\n",
       "      <td>NaN</td>\n",
       "      <td>63.0</td>\n",
       "      <td>64</td>\n",
       "      <td>Population</td>\n",
       "    </tr>\n",
       "    <tr>\n",
       "      <th>3376</th>\n",
       "      <td>8/8/2002</td>\n",
       "      <td>6:00:00</td>\n",
       "      <td>bonrip</td>\n",
       "      <td>4b</td>\n",
       "      <td>1201</td>\n",
       "      <td>1202</td>\n",
       "      <td>NaN</td>\n",
       "      <td>NaN</td>\n",
       "      <td>NaN</td>\n",
       "      <td>NaN</td>\n",
       "      <td>NaN</td>\n",
       "      <td>63.0</td>\n",
       "      <td>64</td>\n",
       "      <td>Population</td>\n",
       "    </tr>\n",
       "    <tr>\n",
       "      <th>3377</th>\n",
       "      <td>8/7/2002</td>\n",
       "      <td>NaN</td>\n",
       "      <td>bonrip</td>\n",
       "      <td>4b</td>\n",
       "      <td>1217</td>\n",
       "      <td>1218</td>\n",
       "      <td>NaN</td>\n",
       "      <td>NaN</td>\n",
       "      <td>1000.0</td>\n",
       "      <td>134.0</td>\n",
       "      <td>NaN</td>\n",
       "      <td>69.0</td>\n",
       "      <td>64</td>\n",
       "      <td>Population</td>\n",
       "    </tr>\n",
       "    <tr>\n",
       "      <th>3378</th>\n",
       "      <td>8/8/2002</td>\n",
       "      <td>NaN</td>\n",
       "      <td>bonrip</td>\n",
       "      <td>6d</td>\n",
       "      <td>1217</td>\n",
       "      <td>1218</td>\n",
       "      <td>NaN</td>\n",
       "      <td>NaN</td>\n",
       "      <td>990.0</td>\n",
       "      <td>NaN</td>\n",
       "      <td>NaN</td>\n",
       "      <td>69.0</td>\n",
       "      <td>64</td>\n",
       "      <td>Population</td>\n",
       "    </tr>\n",
       "    <tr>\n",
       "      <th>3379</th>\n",
       "      <td>8/6/2002</td>\n",
       "      <td>NaN</td>\n",
       "      <td>bonrip</td>\n",
       "      <td>4b</td>\n",
       "      <td>1058</td>\n",
       "      <td>1060</td>\n",
       "      <td>M</td>\n",
       "      <td>NaN</td>\n",
       "      <td>1460.0</td>\n",
       "      <td>119.0</td>\n",
       "      <td>NaN</td>\n",
       "      <td>32.0</td>\n",
       "      <td>64</td>\n",
       "      <td>Population</td>\n",
       "    </tr>\n",
       "  </tbody>\n",
       "</table>\n",
       "<p>3380 rows × 14 columns</p>\n",
       "</div>"
      ],
      "text/plain": [
       "            date      time    grid trap       l_ear r_ear  sex  age  weight  \\\n",
       "0     11/26/1998       NaN  bonrip   1A  414D096A08   NaN  NaN  NaN  1370.0   \n",
       "1     11/26/1998       NaN  bonrip   2C  414D320671   NaN    M  NaN  1430.0   \n",
       "2     11/26/1998       NaN  bonrip   2D  414D103E3A   NaN    M  NaN  1430.0   \n",
       "3     11/26/1998       NaN  bonrip   2E  414D262D43   NaN  NaN  NaN  1490.0   \n",
       "4     11/26/1998       NaN  bonrip   3B  414D2B4B58   NaN  NaN  NaN  1710.0   \n",
       "...          ...       ...     ...  ...         ...   ...  ...  ...     ...   \n",
       "3375    8/8/2002  18:00:00  bonrip  1b         1201  1202  NaN  NaN  1400.0   \n",
       "3376    8/8/2002   6:00:00  bonrip  4b         1201  1202  NaN  NaN     NaN   \n",
       "3377    8/7/2002       NaN  bonrip   4b        1217  1218  NaN  NaN  1000.0   \n",
       "3378    8/8/2002       NaN  bonrip   6d        1217  1218  NaN  NaN   990.0   \n",
       "3379    8/6/2002       NaN  bonrip   4b        1058  1060    M  NaN  1460.0   \n",
       "\n",
       "      hindft notes  b_key  session_id       study  \n",
       "0      160.0   NaN  917.0          51  Population  \n",
       "1        NaN   NaN  936.0          51  Population  \n",
       "2        NaN   NaN  921.0          51  Population  \n",
       "3      135.0   NaN  931.0          51  Population  \n",
       "4      150.0   NaN  933.0          51  Population  \n",
       "...      ...   ...    ...         ...         ...  \n",
       "3375     NaN   NaN   63.0          64  Population  \n",
       "3376     NaN   NaN   63.0          64  Population  \n",
       "3377   134.0   NaN   69.0          64  Population  \n",
       "3378     NaN   NaN   69.0          64  Population  \n",
       "3379   119.0   NaN   32.0          64  Population  \n",
       "\n",
       "[3380 rows x 14 columns]"
      ]
     },
     "execution_count": 2,
     "metadata": {},
     "output_type": "execute_result"
    }
   ],
   "source": [
    "# Read data\n",
    "hares = pd.read_csv(\"https://pasta.lternet.edu/package/data/eml/knb-lter-bnz/55/22/f01f5d71be949b8c700b6ecd1c42c701\")\n",
    "hares"
   ]
  },
  {
   "cell_type": "code",
   "execution_count": 3,
   "id": "bfbcae90-0c6c-4790-b913-740d9a817e1a",
   "metadata": {
    "tags": []
   },
   "outputs": [
    {
     "data": {
      "text/plain": [
       "(3380, 14)"
      ]
     },
     "execution_count": 3,
     "metadata": {},
     "output_type": "execute_result"
    }
   ],
   "source": [
    "hares.shape"
   ]
  },
  {
   "cell_type": "code",
   "execution_count": 4,
   "id": "2a72548e-2e9e-4d3b-a725-c9a29abf66a1",
   "metadata": {
    "tags": []
   },
   "outputs": [
    {
     "data": {
      "text/plain": [
       "date           object\n",
       "time           object\n",
       "grid           object\n",
       "trap           object\n",
       "l_ear          object\n",
       "r_ear          object\n",
       "sex            object\n",
       "age            object\n",
       "weight        float64\n",
       "hindft        float64\n",
       "notes          object\n",
       "b_key         float64\n",
       "session_id      int64\n",
       "study          object\n",
       "dtype: object"
      ]
     },
     "execution_count": 4,
     "metadata": {},
     "output_type": "execute_result"
    }
   ],
   "source": [
    "hares.dtypes"
   ]
  },
  {
   "cell_type": "code",
   "execution_count": 5,
   "id": "ae470f1a-338a-4bc0-a8c6-d6738386fa10",
   "metadata": {
    "tags": []
   },
   "outputs": [
    {
     "data": {
      "text/plain": [
       "date             0\n",
       "time          3116\n",
       "grid             0\n",
       "trap            12\n",
       "l_ear           48\n",
       "r_ear          169\n",
       "sex            352\n",
       "age           2111\n",
       "weight         535\n",
       "hindft        1747\n",
       "notes         3137\n",
       "b_key           47\n",
       "session_id       0\n",
       "study          163\n",
       "dtype: int64"
      ]
     },
     "execution_count": 5,
     "metadata": {},
     "output_type": "execute_result"
    }
   ],
   "source": [
    "# Are there any columns that have a significant number of NA values?\n",
    "hares.isnull().sum()"
   ]
  },
  {
   "cell_type": "code",
   "execution_count": 6,
   "id": "c1f58448-2659-402b-82d0-768128e7066e",
   "metadata": {
    "tags": []
   },
   "outputs": [
    {
     "name": "stdout",
     "output_type": "stream",
     "text": [
      "0.0\n",
      "2365.0\n"
     ]
    }
   ],
   "source": [
    "# What are the minimum and maximum values for the weight measurements?\n",
    "print(hares['weight'].min())\n",
    "print(hares['weight'].max())"
   ]
  },
  {
   "cell_type": "code",
   "execution_count": 7,
   "id": "e287fa7b-81aa-49f8-bb1e-e80d15e023da",
   "metadata": {
    "tags": []
   },
   "outputs": [
    {
     "name": "stdout",
     "output_type": "stream",
     "text": [
      "60.0\n",
      "160.0\n"
     ]
    }
   ],
   "source": [
    "# What are the minimum and maximum values for the hind feet measurements?\n",
    "print(hares['hindft'].min())\n",
    "print(hares['hindft'].max())"
   ]
  },
  {
   "cell_type": "code",
   "execution_count": 8,
   "id": "9c1de226-06db-412a-979d-b3b87cee0441",
   "metadata": {
    "tags": []
   },
   "outputs": [],
   "source": [
    "hares[hares['weight'] == 0] = np.nan # change zero value to NA"
   ]
  },
  {
   "cell_type": "code",
   "execution_count": 9,
   "id": "2470c867-4e80-4db4-9ad0-7f67378b1ae5",
   "metadata": {
    "tags": []
   },
   "outputs": [
    {
     "data": {
      "text/html": [
       "<div>\n",
       "<style scoped>\n",
       "    .dataframe tbody tr th:only-of-type {\n",
       "        vertical-align: middle;\n",
       "    }\n",
       "\n",
       "    .dataframe tbody tr th {\n",
       "        vertical-align: top;\n",
       "    }\n",
       "\n",
       "    .dataframe thead th {\n",
       "        text-align: right;\n",
       "    }\n",
       "</style>\n",
       "<table border=\"1\" class=\"dataframe\">\n",
       "  <thead>\n",
       "    <tr style=\"text-align: right;\">\n",
       "      <th></th>\n",
       "      <th>date</th>\n",
       "      <th>time</th>\n",
       "      <th>grid</th>\n",
       "      <th>trap</th>\n",
       "      <th>l_ear</th>\n",
       "      <th>r_ear</th>\n",
       "      <th>sex</th>\n",
       "      <th>age</th>\n",
       "      <th>weight</th>\n",
       "      <th>hindft</th>\n",
       "      <th>notes</th>\n",
       "      <th>b_key</th>\n",
       "      <th>session_id</th>\n",
       "      <th>study</th>\n",
       "    </tr>\n",
       "  </thead>\n",
       "  <tbody>\n",
       "  </tbody>\n",
       "</table>\n",
       "</div>"
      ],
      "text/plain": [
       "Empty DataFrame\n",
       "Columns: [date, time, grid, trap, l_ear, r_ear, sex, age, weight, hindft, notes, b_key, session_id, study]\n",
       "Index: []"
      ]
     },
     "execution_count": 9,
     "metadata": {},
     "output_type": "execute_result"
    }
   ],
   "source": [
    "hares[hares['weight'] == 0]"
   ]
  },
  {
   "cell_type": "code",
   "execution_count": 10,
   "id": "4fe6f63b-4f1d-4d92-b71c-e25e5fef47de",
   "metadata": {
    "tags": []
   },
   "outputs": [
    {
     "data": {
      "text/plain": [
       "array([nan, 'J', 'A', 'a 1 yr.', 'a 3/4 yr.', 'a 1 yr', '1 yr', '1 yr.',\n",
       "       '2 yrs.', '2 yrs', 'a 2 yrs.', '2.25 yrs', '3.5 yrs.', '3 yrs.',\n",
       "       '2.5 yrs', '3.25 yrs.', 'A 1.5', '?', 'U', 'j', 'a', 'u', 'J 3/4',\n",
       "       'A 3/4', 'A 1/2', '3/4/2013', '1/4/2013', '1/2/2013', '1', '1.25',\n",
       "       '1.5'], dtype=object)"
      ]
     },
     "execution_count": 10,
     "metadata": {},
     "output_type": "execute_result"
    }
   ],
   "source": [
    "# What are the unique values for some of the categorical columns?\n",
    "\n",
    "hares['age'].unique()"
   ]
  },
  {
   "cell_type": "markdown",
   "id": "260789a1-609d-4c59-ae7c-800bd43e22c3",
   "metadata": {},
   "source": [
    "### Detecting messy values"
   ]
  },
  {
   "cell_type": "markdown",
   "id": "dba26653-c02f-4926-8596-c7d7d04a3d04",
   "metadata": {},
   "source": [
    "In the metadata section of the EDI repository, find which are the allowed values for the hares’ sex. Create a small table in a markdown cell showing the values and their definitions.\n",
    "Get the number of times each unique sex non-NA value appears.\n",
    "Check the documentation of value_counts(). "
   ]
  },
  {
   "cell_type": "markdown",
   "id": "bd2fbd7d-1765-4b74-946e-a633ff164414",
   "metadata": {},
   "source": [
    "Discuss with your team the output of the unique value counts. In particular:\n",
    "\n",
    "**Do the values in the sex column correspond to the values declared in the metadata?**\n",
    "No\n",
    "\n",
    "**What could have been potential causes for multiple codes?**\n",
    "Lack of proper datsheets\n",
    "\n",
    "**Are there seemingly repated values? If so, what could be the cause?**\n",
    "Yes, there are repeated values.\n",
    "\n",
    "**Write code to confirm your suspicions about c-iii.**"
   ]
  },
  {
   "cell_type": "markdown",
   "id": "12218b17-7018-4e54-9c66-b9ae4ac36e1d",
   "metadata": {},
   "source": [
    "| Syntax      | Description         |\n",
    "| ----------- | -----------         |\n",
    "| m           |  Male               |\n",
    "| f.          |  Female             |\n",
    "|m?           |  male not confirmed |"
   ]
  },
  {
   "cell_type": "code",
   "execution_count": 11,
   "id": "b4287749-a4b3-46a7-bac2-4c820d110fca",
   "metadata": {
    "tags": []
   },
   "outputs": [
    {
     "data": {
      "text/plain": [
       "<bound method Series.unique of sex\n",
       "F      1161\n",
       "M       730\n",
       "f       556\n",
       "m       515\n",
       "NaN     352\n",
       "?        40\n",
       "F?       10\n",
       "f         4\n",
       "m         4\n",
       "f?        3\n",
       "M?        2\n",
       "m?        2\n",
       "pf        1\n",
       "Name: count, dtype: int64>"
      ]
     },
     "execution_count": 11,
     "metadata": {},
     "output_type": "execute_result"
    }
   ],
   "source": [
    "# Get the number of times each unique sex non-NA value appears.\n",
    "\n",
    "hares['sex'].value_counts(dropna=False).unique"
   ]
  },
  {
   "cell_type": "markdown",
   "id": "472547b8-819e-4ee9-8081-f523bb07cd88",
   "metadata": {},
   "source": [
    "What is the purpose of the dropna parameter and what is its default value? Repeat step (a), this time adding the dropna=False parameter to value_counts().\n",
    "\n",
    "# help(pd.Series.value_counts)"
   ]
  },
  {
   "cell_type": "code",
   "execution_count": null,
   "id": "d9aff27b-d82b-4396-bf10-2c02422a9829",
   "metadata": {},
   "outputs": [],
   "source": []
  },
  {
   "cell_type": "code",
   "execution_count": 13,
   "id": "2adcf31a-b1c5-47e6-bd4a-28447480d94c",
   "metadata": {
    "tags": []
   },
   "outputs": [
    {
     "data": {
      "text/html": [
       "<div>\n",
       "<style scoped>\n",
       "    .dataframe tbody tr th:only-of-type {\n",
       "        vertical-align: middle;\n",
       "    }\n",
       "\n",
       "    .dataframe tbody tr th {\n",
       "        vertical-align: top;\n",
       "    }\n",
       "\n",
       "    .dataframe thead th {\n",
       "        text-align: right;\n",
       "    }\n",
       "</style>\n",
       "<table border=\"1\" class=\"dataframe\">\n",
       "  <thead>\n",
       "    <tr style=\"text-align: right;\">\n",
       "      <th></th>\n",
       "      <th>date</th>\n",
       "      <th>time</th>\n",
       "      <th>grid</th>\n",
       "      <th>trap</th>\n",
       "      <th>l_ear</th>\n",
       "      <th>r_ear</th>\n",
       "      <th>sex</th>\n",
       "      <th>age</th>\n",
       "      <th>weight</th>\n",
       "      <th>hindft</th>\n",
       "      <th>notes</th>\n",
       "      <th>b_key</th>\n",
       "      <th>session_id</th>\n",
       "      <th>study</th>\n",
       "    </tr>\n",
       "  </thead>\n",
       "  <tbody>\n",
       "    <tr>\n",
       "      <th>0</th>\n",
       "      <td>11/26/1998</td>\n",
       "      <td>NaN</td>\n",
       "      <td>bonrip</td>\n",
       "      <td>1A</td>\n",
       "      <td>414D096A08</td>\n",
       "      <td>NaN</td>\n",
       "      <td>NaN</td>\n",
       "      <td>NaN</td>\n",
       "      <td>1370.0</td>\n",
       "      <td>160.0</td>\n",
       "      <td>NaN</td>\n",
       "      <td>917.0</td>\n",
       "      <td>51.0</td>\n",
       "      <td>Population</td>\n",
       "    </tr>\n",
       "    <tr>\n",
       "      <th>1</th>\n",
       "      <td>11/26/1998</td>\n",
       "      <td>NaN</td>\n",
       "      <td>bonrip</td>\n",
       "      <td>2C</td>\n",
       "      <td>414D320671</td>\n",
       "      <td>NaN</td>\n",
       "      <td>m</td>\n",
       "      <td>NaN</td>\n",
       "      <td>1430.0</td>\n",
       "      <td>NaN</td>\n",
       "      <td>NaN</td>\n",
       "      <td>936.0</td>\n",
       "      <td>51.0</td>\n",
       "      <td>Population</td>\n",
       "    </tr>\n",
       "    <tr>\n",
       "      <th>2</th>\n",
       "      <td>11/26/1998</td>\n",
       "      <td>NaN</td>\n",
       "      <td>bonrip</td>\n",
       "      <td>2D</td>\n",
       "      <td>414D103E3A</td>\n",
       "      <td>NaN</td>\n",
       "      <td>m</td>\n",
       "      <td>NaN</td>\n",
       "      <td>1430.0</td>\n",
       "      <td>NaN</td>\n",
       "      <td>NaN</td>\n",
       "      <td>921.0</td>\n",
       "      <td>51.0</td>\n",
       "      <td>Population</td>\n",
       "    </tr>\n",
       "    <tr>\n",
       "      <th>3</th>\n",
       "      <td>11/26/1998</td>\n",
       "      <td>NaN</td>\n",
       "      <td>bonrip</td>\n",
       "      <td>2E</td>\n",
       "      <td>414D262D43</td>\n",
       "      <td>NaN</td>\n",
       "      <td>NaN</td>\n",
       "      <td>NaN</td>\n",
       "      <td>1490.0</td>\n",
       "      <td>135.0</td>\n",
       "      <td>NaN</td>\n",
       "      <td>931.0</td>\n",
       "      <td>51.0</td>\n",
       "      <td>Population</td>\n",
       "    </tr>\n",
       "    <tr>\n",
       "      <th>4</th>\n",
       "      <td>11/26/1998</td>\n",
       "      <td>NaN</td>\n",
       "      <td>bonrip</td>\n",
       "      <td>3B</td>\n",
       "      <td>414D2B4B58</td>\n",
       "      <td>NaN</td>\n",
       "      <td>NaN</td>\n",
       "      <td>NaN</td>\n",
       "      <td>1710.0</td>\n",
       "      <td>150.0</td>\n",
       "      <td>NaN</td>\n",
       "      <td>933.0</td>\n",
       "      <td>51.0</td>\n",
       "      <td>Population</td>\n",
       "    </tr>\n",
       "    <tr>\n",
       "      <th>...</th>\n",
       "      <td>...</td>\n",
       "      <td>...</td>\n",
       "      <td>...</td>\n",
       "      <td>...</td>\n",
       "      <td>...</td>\n",
       "      <td>...</td>\n",
       "      <td>...</td>\n",
       "      <td>...</td>\n",
       "      <td>...</td>\n",
       "      <td>...</td>\n",
       "      <td>...</td>\n",
       "      <td>...</td>\n",
       "      <td>...</td>\n",
       "      <td>...</td>\n",
       "    </tr>\n",
       "    <tr>\n",
       "      <th>3375</th>\n",
       "      <td>8/8/2002</td>\n",
       "      <td>18:00:00</td>\n",
       "      <td>bonrip</td>\n",
       "      <td>1b</td>\n",
       "      <td>1201</td>\n",
       "      <td>1202</td>\n",
       "      <td>NaN</td>\n",
       "      <td>NaN</td>\n",
       "      <td>1400.0</td>\n",
       "      <td>NaN</td>\n",
       "      <td>NaN</td>\n",
       "      <td>63.0</td>\n",
       "      <td>64.0</td>\n",
       "      <td>Population</td>\n",
       "    </tr>\n",
       "    <tr>\n",
       "      <th>3376</th>\n",
       "      <td>8/8/2002</td>\n",
       "      <td>6:00:00</td>\n",
       "      <td>bonrip</td>\n",
       "      <td>4b</td>\n",
       "      <td>1201</td>\n",
       "      <td>1202</td>\n",
       "      <td>NaN</td>\n",
       "      <td>NaN</td>\n",
       "      <td>NaN</td>\n",
       "      <td>NaN</td>\n",
       "      <td>NaN</td>\n",
       "      <td>63.0</td>\n",
       "      <td>64.0</td>\n",
       "      <td>Population</td>\n",
       "    </tr>\n",
       "    <tr>\n",
       "      <th>3377</th>\n",
       "      <td>8/7/2002</td>\n",
       "      <td>NaN</td>\n",
       "      <td>bonrip</td>\n",
       "      <td>4b</td>\n",
       "      <td>1217</td>\n",
       "      <td>1218</td>\n",
       "      <td>NaN</td>\n",
       "      <td>NaN</td>\n",
       "      <td>1000.0</td>\n",
       "      <td>134.0</td>\n",
       "      <td>NaN</td>\n",
       "      <td>69.0</td>\n",
       "      <td>64.0</td>\n",
       "      <td>Population</td>\n",
       "    </tr>\n",
       "    <tr>\n",
       "      <th>3378</th>\n",
       "      <td>8/8/2002</td>\n",
       "      <td>NaN</td>\n",
       "      <td>bonrip</td>\n",
       "      <td>6d</td>\n",
       "      <td>1217</td>\n",
       "      <td>1218</td>\n",
       "      <td>NaN</td>\n",
       "      <td>NaN</td>\n",
       "      <td>990.0</td>\n",
       "      <td>NaN</td>\n",
       "      <td>NaN</td>\n",
       "      <td>69.0</td>\n",
       "      <td>64.0</td>\n",
       "      <td>Population</td>\n",
       "    </tr>\n",
       "    <tr>\n",
       "      <th>3379</th>\n",
       "      <td>8/6/2002</td>\n",
       "      <td>NaN</td>\n",
       "      <td>bonrip</td>\n",
       "      <td>4b</td>\n",
       "      <td>1058</td>\n",
       "      <td>1060</td>\n",
       "      <td>m</td>\n",
       "      <td>NaN</td>\n",
       "      <td>1460.0</td>\n",
       "      <td>119.0</td>\n",
       "      <td>NaN</td>\n",
       "      <td>32.0</td>\n",
       "      <td>64.0</td>\n",
       "      <td>Population</td>\n",
       "    </tr>\n",
       "  </tbody>\n",
       "</table>\n",
       "<p>3380 rows × 14 columns</p>\n",
       "</div>"
      ],
      "text/plain": [
       "            date      time    grid trap       l_ear r_ear  sex  age  weight  \\\n",
       "0     11/26/1998       NaN  bonrip   1A  414D096A08   NaN  NaN  NaN  1370.0   \n",
       "1     11/26/1998       NaN  bonrip   2C  414D320671   NaN    m  NaN  1430.0   \n",
       "2     11/26/1998       NaN  bonrip   2D  414D103E3A   NaN    m  NaN  1430.0   \n",
       "3     11/26/1998       NaN  bonrip   2E  414D262D43   NaN  NaN  NaN  1490.0   \n",
       "4     11/26/1998       NaN  bonrip   3B  414D2B4B58   NaN  NaN  NaN  1710.0   \n",
       "...          ...       ...     ...  ...         ...   ...  ...  ...     ...   \n",
       "3375    8/8/2002  18:00:00  bonrip  1b         1201  1202  NaN  NaN  1400.0   \n",
       "3376    8/8/2002   6:00:00  bonrip  4b         1201  1202  NaN  NaN     NaN   \n",
       "3377    8/7/2002       NaN  bonrip   4b        1217  1218  NaN  NaN  1000.0   \n",
       "3378    8/8/2002       NaN  bonrip   6d        1217  1218  NaN  NaN   990.0   \n",
       "3379    8/6/2002       NaN  bonrip   4b        1058  1060    m  NaN  1460.0   \n",
       "\n",
       "      hindft notes  b_key  session_id       study  \n",
       "0      160.0   NaN  917.0        51.0  Population  \n",
       "1        NaN   NaN  936.0        51.0  Population  \n",
       "2        NaN   NaN  921.0        51.0  Population  \n",
       "3      135.0   NaN  931.0        51.0  Population  \n",
       "4      150.0   NaN  933.0        51.0  Population  \n",
       "...      ...   ...    ...         ...         ...  \n",
       "3375     NaN   NaN   63.0        64.0  Population  \n",
       "3376     NaN   NaN   63.0        64.0  Population  \n",
       "3377   134.0   NaN   69.0        64.0  Population  \n",
       "3378     NaN   NaN   69.0        64.0  Population  \n",
       "3379   119.0   NaN   32.0        64.0  Population  \n",
       "\n",
       "[3380 rows x 14 columns]"
      ]
     },
     "execution_count": 13,
     "metadata": {},
     "output_type": "execute_result"
    }
   ],
   "source": [
    "hares['sex'] = hares['sex'].str.strip().str.lower()\n",
    "hares"
   ]
  },
  {
   "cell_type": "code",
   "execution_count": 14,
   "id": "d9847821-614c-4360-bac9-92cadb555578",
   "metadata": {
    "tags": []
   },
   "outputs": [
    {
     "data": {
      "text/plain": [
       "array([1721, 1249,  352,   40,   13,    4,    1])"
      ]
     },
     "execution_count": 14,
     "metadata": {},
     "output_type": "execute_result"
    }
   ],
   "source": [
    "hares['sex'].value_counts(dropna = False).unique()"
   ]
  },
  {
   "cell_type": "code",
   "execution_count": 15,
   "id": "cd94d4cd-1a6e-4c07-bf4e-be22e0601af2",
   "metadata": {
    "tags": []
   },
   "outputs": [
    {
     "ename": "SyntaxError",
     "evalue": "cannot assign to subscript here. Maybe you meant '==' instead of '='? (1665141235.py, line 2)",
     "output_type": "error",
     "traceback": [
      "\u001b[0;36m  Cell \u001b[0;32mIn[15], line 2\u001b[0;36m\u001b[0m\n\u001b[0;31m    hares[(hares['sex'] = '?') | (hares['sex'] = 'f') | (hares['sex'] = 'f')] = np.nan\u001b[0m\n\u001b[0m           ^\u001b[0m\n\u001b[0;31mSyntaxError\u001b[0m\u001b[0;31m:\u001b[0m cannot assign to subscript here. Maybe you meant '==' instead of '='?\n"
     ]
    }
   ],
   "source": [
    "hares['sex'] = hares['sex'].str.strip().str.lower().str.replace(\"f?\", 'f')\n",
    "hares[(hares['sex'] = '?') | (hares['sex'] = 'f') | (hares['sex'] = 'm')] = np.nan\n",
    "hares"
   ]
  },
  {
   "cell_type": "code",
   "execution_count": 16,
   "id": "89835a21-5de6-4726-b886-6d00a9e7b493",
   "metadata": {
    "tags": []
   },
   "outputs": [],
   "source": [
    "# Check all the different unique values\n",
    "\n",
    "hares.sex.unique()\n",
    "x = hares.sex"
   ]
  },
  {
   "cell_type": "code",
   "execution_count": 17,
   "id": "8ab8bc9e-42bf-4394-b55f-45dfbc5dd5b8",
   "metadata": {
    "tags": []
   },
   "outputs": [],
   "source": [
    "condition_list = [x.isin(['M', 'm', 'm_']), x.isin(['F', 'f', 'f_'])]\n",
    "output_list = ['male', 'female']\n",
    "\n",
    "hares['sex_simple'] = np.select(condition_list, output_list, default = np.nan)"
   ]
  },
  {
   "cell_type": "code",
   "execution_count": 21,
   "id": "09bcb96e-281a-4228-bd1d-fe1bc829ec5f",
   "metadata": {
    "tags": []
   },
   "outputs": [],
   "source": [
    "hares['sex_simple'] = new_column"
   ]
  },
  {
   "cell_type": "code",
   "execution_count": 22,
   "id": "52c120c2-103a-4575-9dbb-575f713d6054",
   "metadata": {
    "tags": []
   },
   "outputs": [
    {
     "data": {
      "text/plain": [
       "sex_simple\n",
       "female    1721\n",
       "male      1249\n",
       "nan        410\n",
       "Name: count, dtype: int64"
      ]
     },
     "execution_count": 22,
     "metadata": {},
     "output_type": "execute_result"
    }
   ],
   "source": [
    "hares['sex_simple'].value_counts()"
   ]
  },
  {
   "cell_type": "markdown",
   "id": "43f0c142-19ba-4258-ba3e-1a635ddf51eb",
   "metadata": {},
   "source": [
    "**7. Calculate mean weight**\n",
    "\n",
    "Use groupby() to calculate the mean weight by sex using the new column."
   ]
  },
  {
   "cell_type": "code",
   "execution_count": 23,
   "id": "b5d9a026-cca9-4ee1-a6fd-6bc12e076ed6",
   "metadata": {
    "tags": []
   },
   "outputs": [
    {
     "data": {
      "text/plain": [
       "sex_simple\n",
       "female    1365.164792\n",
       "male      1349.935542\n",
       "nan       1198.888889\n",
       "Name: weight, dtype: float64"
      ]
     },
     "execution_count": 23,
     "metadata": {},
     "output_type": "execute_result"
    }
   ],
   "source": [
    "hares.groupby(by = 'sex_simple')['weight'].mean()"
   ]
  }
 ],
 "metadata": {
  "kernelspec": {
   "display_name": "EDS220",
   "language": "python",
   "name": "eds220-env"
  },
  "language_info": {
   "codemirror_mode": {
    "name": "ipython",
    "version": 3
   },
   "file_extension": ".py",
   "mimetype": "text/x-python",
   "name": "python",
   "nbconvert_exporter": "python",
   "pygments_lexer": "ipython3",
   "version": "3.11.4"
  }
 },
 "nbformat": 4,
 "nbformat_minor": 5
}
