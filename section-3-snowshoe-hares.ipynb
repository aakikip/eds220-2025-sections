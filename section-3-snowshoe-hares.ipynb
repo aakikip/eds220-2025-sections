{
 "cells": [
  {
   "cell_type": "markdown",
   "id": "aef850b6-f5f3-42f8-b194-874b1395b000",
   "metadata": {},
   "source": [
    "# Snowshoe hares at Bonanza Creek Experimental Forest\n",
    "\n",
    "## **Week 3 - Discussion section**"
   ]
  },
  {
   "cell_type": "markdown",
   "id": "c487b5f8-d050-4b31-9b81-2eef20550c27",
   "metadata": {},
   "source": [
    "### Load library"
   ]
  },
  {
   "cell_type": "code",
   "execution_count": 3,
   "id": "1ccbf887-4d00-45a7-a4f8-6714d56404b5",
   "metadata": {
    "tags": []
   },
   "outputs": [],
   "source": [
    "# Load library\n",
    "import pandas as pd\n",
    "import numpy as np"
   ]
  },
  {
   "cell_type": "markdown",
   "id": "6f1a0e2a-18b9-46e1-b181-adbb4d19fbf2",
   "metadata": {},
   "source": [
    "### Add image"
   ]
  },
  {
   "cell_type": "markdown",
   "id": "cd93a3b0-8556-4908-aacf-dede7b097869",
   "metadata": {},
   "source": [
    "![Cutie Hare](https://upload.wikimedia.org/wikipedia/commons/thumb/8/8a/SNOWSHOE_HARE_%28Lepus_americanus%29_%285-28-2015%29_quoddy_head%2C_washington_co%2C_maine_-01_%2818988734889%29.jpg/1452px-SNOWSHOE_HARE_%28Lepus_americanus%29_%285-28-2015%29_quoddy_head%2C_washington_co%2C_maine_-01_%2818988734889%29.jpg?20170313021652)"
   ]
  },
  {
   "cell_type": "markdown",
   "id": "58f30242-276e-4e84-a5e4-014317ca9873",
   "metadata": {},
   "source": [
    "This file is made available under the Creative Commons CC0 1.0 Universal Public Domain Dedication.\n",
    "The person who associated a work with this deed has dedicated the work to the public domain by waiving all of their rights to the work worldwide under copyright law, including all related and neighboring rights, to the extent allowed by law. You can copy, modify, distribute and perform the work, even for commercial purposes, all without asking permission."
   ]
  },
  {
   "cell_type": "markdown",
   "id": "0bfa3066-8435-443b-aac0-21558832fd38",
   "metadata": {},
   "source": [
    "### Load data"
   ]
  },
  {
   "cell_type": "code",
   "execution_count": 8,
   "id": "a52a046e-8199-4eff-a0ad-550f38089766",
   "metadata": {
    "tags": []
   },
   "outputs": [
    {
     "data": {
      "text/html": [
       "<div>\n",
       "<style scoped>\n",
       "    .dataframe tbody tr th:only-of-type {\n",
       "        vertical-align: middle;\n",
       "    }\n",
       "\n",
       "    .dataframe tbody tr th {\n",
       "        vertical-align: top;\n",
       "    }\n",
       "\n",
       "    .dataframe thead th {\n",
       "        text-align: right;\n",
       "    }\n",
       "</style>\n",
       "<table border=\"1\" class=\"dataframe\">\n",
       "  <thead>\n",
       "    <tr style=\"text-align: right;\">\n",
       "      <th></th>\n",
       "      <th>date</th>\n",
       "      <th>time</th>\n",
       "      <th>grid</th>\n",
       "      <th>trap</th>\n",
       "      <th>l_ear</th>\n",
       "      <th>r_ear</th>\n",
       "      <th>sex</th>\n",
       "      <th>age</th>\n",
       "      <th>weight</th>\n",
       "      <th>hindft</th>\n",
       "      <th>notes</th>\n",
       "      <th>b_key</th>\n",
       "      <th>session_id</th>\n",
       "      <th>study</th>\n",
       "    </tr>\n",
       "  </thead>\n",
       "  <tbody>\n",
       "    <tr>\n",
       "      <th>0</th>\n",
       "      <td>11/26/1998</td>\n",
       "      <td>NaN</td>\n",
       "      <td>bonrip</td>\n",
       "      <td>1A</td>\n",
       "      <td>414D096A08</td>\n",
       "      <td>NaN</td>\n",
       "      <td>NaN</td>\n",
       "      <td>NaN</td>\n",
       "      <td>1370.0</td>\n",
       "      <td>160.0</td>\n",
       "      <td>NaN</td>\n",
       "      <td>917.0</td>\n",
       "      <td>51</td>\n",
       "      <td>Population</td>\n",
       "    </tr>\n",
       "    <tr>\n",
       "      <th>1</th>\n",
       "      <td>11/26/1998</td>\n",
       "      <td>NaN</td>\n",
       "      <td>bonrip</td>\n",
       "      <td>2C</td>\n",
       "      <td>414D320671</td>\n",
       "      <td>NaN</td>\n",
       "      <td>M</td>\n",
       "      <td>NaN</td>\n",
       "      <td>1430.0</td>\n",
       "      <td>NaN</td>\n",
       "      <td>NaN</td>\n",
       "      <td>936.0</td>\n",
       "      <td>51</td>\n",
       "      <td>Population</td>\n",
       "    </tr>\n",
       "    <tr>\n",
       "      <th>2</th>\n",
       "      <td>11/26/1998</td>\n",
       "      <td>NaN</td>\n",
       "      <td>bonrip</td>\n",
       "      <td>2D</td>\n",
       "      <td>414D103E3A</td>\n",
       "      <td>NaN</td>\n",
       "      <td>M</td>\n",
       "      <td>NaN</td>\n",
       "      <td>1430.0</td>\n",
       "      <td>NaN</td>\n",
       "      <td>NaN</td>\n",
       "      <td>921.0</td>\n",
       "      <td>51</td>\n",
       "      <td>Population</td>\n",
       "    </tr>\n",
       "    <tr>\n",
       "      <th>3</th>\n",
       "      <td>11/26/1998</td>\n",
       "      <td>NaN</td>\n",
       "      <td>bonrip</td>\n",
       "      <td>2E</td>\n",
       "      <td>414D262D43</td>\n",
       "      <td>NaN</td>\n",
       "      <td>NaN</td>\n",
       "      <td>NaN</td>\n",
       "      <td>1490.0</td>\n",
       "      <td>135.0</td>\n",
       "      <td>NaN</td>\n",
       "      <td>931.0</td>\n",
       "      <td>51</td>\n",
       "      <td>Population</td>\n",
       "    </tr>\n",
       "    <tr>\n",
       "      <th>4</th>\n",
       "      <td>11/26/1998</td>\n",
       "      <td>NaN</td>\n",
       "      <td>bonrip</td>\n",
       "      <td>3B</td>\n",
       "      <td>414D2B4B58</td>\n",
       "      <td>NaN</td>\n",
       "      <td>NaN</td>\n",
       "      <td>NaN</td>\n",
       "      <td>1710.0</td>\n",
       "      <td>150.0</td>\n",
       "      <td>NaN</td>\n",
       "      <td>933.0</td>\n",
       "      <td>51</td>\n",
       "      <td>Population</td>\n",
       "    </tr>\n",
       "    <tr>\n",
       "      <th>...</th>\n",
       "      <td>...</td>\n",
       "      <td>...</td>\n",
       "      <td>...</td>\n",
       "      <td>...</td>\n",
       "      <td>...</td>\n",
       "      <td>...</td>\n",
       "      <td>...</td>\n",
       "      <td>...</td>\n",
       "      <td>...</td>\n",
       "      <td>...</td>\n",
       "      <td>...</td>\n",
       "      <td>...</td>\n",
       "      <td>...</td>\n",
       "      <td>...</td>\n",
       "    </tr>\n",
       "    <tr>\n",
       "      <th>3375</th>\n",
       "      <td>8/8/2002</td>\n",
       "      <td>18:00:00</td>\n",
       "      <td>bonrip</td>\n",
       "      <td>1b</td>\n",
       "      <td>1201</td>\n",
       "      <td>1202</td>\n",
       "      <td>NaN</td>\n",
       "      <td>NaN</td>\n",
       "      <td>1400.0</td>\n",
       "      <td>NaN</td>\n",
       "      <td>NaN</td>\n",
       "      <td>63.0</td>\n",
       "      <td>64</td>\n",
       "      <td>Population</td>\n",
       "    </tr>\n",
       "    <tr>\n",
       "      <th>3376</th>\n",
       "      <td>8/8/2002</td>\n",
       "      <td>6:00:00</td>\n",
       "      <td>bonrip</td>\n",
       "      <td>4b</td>\n",
       "      <td>1201</td>\n",
       "      <td>1202</td>\n",
       "      <td>NaN</td>\n",
       "      <td>NaN</td>\n",
       "      <td>NaN</td>\n",
       "      <td>NaN</td>\n",
       "      <td>NaN</td>\n",
       "      <td>63.0</td>\n",
       "      <td>64</td>\n",
       "      <td>Population</td>\n",
       "    </tr>\n",
       "    <tr>\n",
       "      <th>3377</th>\n",
       "      <td>8/7/2002</td>\n",
       "      <td>NaN</td>\n",
       "      <td>bonrip</td>\n",
       "      <td>4b</td>\n",
       "      <td>1217</td>\n",
       "      <td>1218</td>\n",
       "      <td>NaN</td>\n",
       "      <td>NaN</td>\n",
       "      <td>1000.0</td>\n",
       "      <td>134.0</td>\n",
       "      <td>NaN</td>\n",
       "      <td>69.0</td>\n",
       "      <td>64</td>\n",
       "      <td>Population</td>\n",
       "    </tr>\n",
       "    <tr>\n",
       "      <th>3378</th>\n",
       "      <td>8/8/2002</td>\n",
       "      <td>NaN</td>\n",
       "      <td>bonrip</td>\n",
       "      <td>6d</td>\n",
       "      <td>1217</td>\n",
       "      <td>1218</td>\n",
       "      <td>NaN</td>\n",
       "      <td>NaN</td>\n",
       "      <td>990.0</td>\n",
       "      <td>NaN</td>\n",
       "      <td>NaN</td>\n",
       "      <td>69.0</td>\n",
       "      <td>64</td>\n",
       "      <td>Population</td>\n",
       "    </tr>\n",
       "    <tr>\n",
       "      <th>3379</th>\n",
       "      <td>8/6/2002</td>\n",
       "      <td>NaN</td>\n",
       "      <td>bonrip</td>\n",
       "      <td>4b</td>\n",
       "      <td>1058</td>\n",
       "      <td>1060</td>\n",
       "      <td>M</td>\n",
       "      <td>NaN</td>\n",
       "      <td>1460.0</td>\n",
       "      <td>119.0</td>\n",
       "      <td>NaN</td>\n",
       "      <td>32.0</td>\n",
       "      <td>64</td>\n",
       "      <td>Population</td>\n",
       "    </tr>\n",
       "  </tbody>\n",
       "</table>\n",
       "<p>3380 rows × 14 columns</p>\n",
       "</div>"
      ],
      "text/plain": [
       "            date      time    grid trap       l_ear r_ear  sex  age  weight  \\\n",
       "0     11/26/1998       NaN  bonrip   1A  414D096A08   NaN  NaN  NaN  1370.0   \n",
       "1     11/26/1998       NaN  bonrip   2C  414D320671   NaN    M  NaN  1430.0   \n",
       "2     11/26/1998       NaN  bonrip   2D  414D103E3A   NaN    M  NaN  1430.0   \n",
       "3     11/26/1998       NaN  bonrip   2E  414D262D43   NaN  NaN  NaN  1490.0   \n",
       "4     11/26/1998       NaN  bonrip   3B  414D2B4B58   NaN  NaN  NaN  1710.0   \n",
       "...          ...       ...     ...  ...         ...   ...  ...  ...     ...   \n",
       "3375    8/8/2002  18:00:00  bonrip  1b         1201  1202  NaN  NaN  1400.0   \n",
       "3376    8/8/2002   6:00:00  bonrip  4b         1201  1202  NaN  NaN     NaN   \n",
       "3377    8/7/2002       NaN  bonrip   4b        1217  1218  NaN  NaN  1000.0   \n",
       "3378    8/8/2002       NaN  bonrip   6d        1217  1218  NaN  NaN   990.0   \n",
       "3379    8/6/2002       NaN  bonrip   4b        1058  1060    M  NaN  1460.0   \n",
       "\n",
       "      hindft notes  b_key  session_id       study  \n",
       "0      160.0   NaN  917.0          51  Population  \n",
       "1        NaN   NaN  936.0          51  Population  \n",
       "2        NaN   NaN  921.0          51  Population  \n",
       "3      135.0   NaN  931.0          51  Population  \n",
       "4      150.0   NaN  933.0          51  Population  \n",
       "...      ...   ...    ...         ...         ...  \n",
       "3375     NaN   NaN   63.0          64  Population  \n",
       "3376     NaN   NaN   63.0          64  Population  \n",
       "3377   134.0   NaN   69.0          64  Population  \n",
       "3378     NaN   NaN   69.0          64  Population  \n",
       "3379   119.0   NaN   32.0          64  Population  \n",
       "\n",
       "[3380 rows x 14 columns]"
      ]
     },
     "execution_count": 8,
     "metadata": {},
     "output_type": "execute_result"
    }
   ],
   "source": [
    "# Read data\n",
    "hares = pd.read_csv(\"https://pasta.lternet.edu/package/data/eml/knb-lter-bnz/55/22/f01f5d71be949b8c700b6ecd1c42c701\")\n",
    "hares"
   ]
  },
  {
   "cell_type": "code",
   "execution_count": 9,
   "id": "bfbcae90-0c6c-4790-b913-740d9a817e1a",
   "metadata": {
    "tags": []
   },
   "outputs": [
    {
     "data": {
      "text/plain": [
       "(3380, 14)"
      ]
     },
     "execution_count": 9,
     "metadata": {},
     "output_type": "execute_result"
    }
   ],
   "source": [
    "hares.shape"
   ]
  },
  {
   "cell_type": "code",
   "execution_count": 11,
   "id": "2a72548e-2e9e-4d3b-a725-c9a29abf66a1",
   "metadata": {
    "tags": []
   },
   "outputs": [
    {
     "data": {
      "text/plain": [
       "date           object\n",
       "time           object\n",
       "grid           object\n",
       "trap           object\n",
       "l_ear          object\n",
       "r_ear          object\n",
       "sex            object\n",
       "age            object\n",
       "weight        float64\n",
       "hindft        float64\n",
       "notes          object\n",
       "b_key         float64\n",
       "session_id      int64\n",
       "study          object\n",
       "dtype: object"
      ]
     },
     "execution_count": 11,
     "metadata": {},
     "output_type": "execute_result"
    }
   ],
   "source": [
    "hares.dtypes"
   ]
  },
  {
   "cell_type": "code",
   "execution_count": 13,
   "id": "c1f58448-2659-402b-82d0-768128e7066e",
   "metadata": {
    "tags": []
   },
   "outputs": [
    {
     "name": "stdout",
     "output_type": "stream",
     "text": [
      "0.0\n",
      "2365.0\n"
     ]
    }
   ],
   "source": [
    "print(hare['weight'].min())\n",
    "print(hare['weight'].max())"
   ]
  },
  {
   "cell_type": "code",
   "execution_count": 14,
   "id": "e287fa7b-81aa-49f8-bb1e-e80d15e023da",
   "metadata": {
    "tags": []
   },
   "outputs": [
    {
     "name": "stdout",
     "output_type": "stream",
     "text": [
      "60.0\n",
      "160.0\n"
     ]
    }
   ],
   "source": [
    "print(hare['hindft'].min())\n",
    "print(hare['hindft'].max())"
   ]
  },
  {
   "cell_type": "code",
   "execution_count": null,
   "id": "9c1de226-06db-412a-979d-b3b87cee0441",
   "metadata": {},
   "outputs": [],
   "source": []
  },
  {
   "cell_type": "code",
   "execution_count": null,
   "id": "2470c867-4e80-4db4-9ad0-7f67378b1ae5",
   "metadata": {},
   "outputs": [],
   "source": []
  },
  {
   "cell_type": "code",
   "execution_count": null,
   "id": "4fe6f63b-4f1d-4d92-b71c-e25e5fef47de",
   "metadata": {},
   "outputs": [],
   "source": []
  },
  {
   "cell_type": "code",
   "execution_count": null,
   "id": "f392e817-f539-4e1e-935e-c1d3d9c8be75",
   "metadata": {},
   "outputs": [],
   "source": []
  }
 ],
 "metadata": {
  "kernelspec": {
   "display_name": "EDS220",
   "language": "python",
   "name": "eds220-env"
  },
  "language_info": {
   "codemirror_mode": {
    "name": "ipython",
    "version": 3
   },
   "file_extension": ".py",
   "mimetype": "text/x-python",
   "name": "python",
   "nbconvert_exporter": "python",
   "pygments_lexer": "ipython3",
   "version": "3.11.4"
  }
 },
 "nbformat": 4,
 "nbformat_minor": 5
}
