{
 "cells": [
  {
   "cell_type": "markdown",
   "id": "bf96085b-2b96-438c-8a3c-de6f6e633531",
   "metadata": {},
   "source": [
    "# Yucatan Peninsula Hurricanes\n",
    "### Week 4 - Discussion section"
   ]
  },
  {
   "cell_type": "markdown",
   "id": "b979474c-6486-4937-9d84-b2181da18eff",
   "metadata": {},
   "source": [
    "### 1. Archive exploration\n",
    "Take some time to mindfully look through the dataset’s description and metadata.\n",
    "\n",
    "In your notebook: use a markdown cell to add a brief description of the dataset, including a citation, date of access, and a link to the archive."
   ]
  },
  {
   "cell_type": "markdown",
   "id": "586e5be7-a3e7-4c79-a59f-114061fee935",
   "metadata": {},
   "source": [
    "### 2. Data loading and preliminary exploration\n",
    "We will be using the hf071-01-hurricanes.csv file. Agree with your team on how you will import this file to your notebook and store it in a variable named df.\n",
    "\n",
    "CHECK IN WITH YOUR TEAM\n",
    "\n",
    "MAKE SURE YOU’VE ALL SUCCESSFULLY ACCESSED THE DATA BEFORE CONTINUING\n",
    "\n",
    "Obtain preliminary information and explore this data frame using pandas methods."
   ]
  },
  {
   "cell_type": "code",
   "execution_count": 1,
   "id": "c3745ef6-a21d-43ae-8c5d-78342b70abdd",
   "metadata": {
    "tags": []
   },
   "outputs": [],
   "source": [
    "# Load libraries\n",
    "import pandas as pd\n",
    "import numpy as np\n",
    "import matplotlib.pyplot as plt"
   ]
  },
  {
   "cell_type": "code",
   "execution_count": 2,
   "id": "0dbd1e6a-28dc-4300-9f85-87f7d07243c1",
   "metadata": {
    "tags": []
   },
   "outputs": [
    {
     "data": {
      "text/html": [
       "<div>\n",
       "<style scoped>\n",
       "    .dataframe tbody tr th:only-of-type {\n",
       "        vertical-align: middle;\n",
       "    }\n",
       "\n",
       "    .dataframe tbody tr th {\n",
       "        vertical-align: top;\n",
       "    }\n",
       "\n",
       "    .dataframe thead th {\n",
       "        text-align: right;\n",
       "    }\n",
       "</style>\n",
       "<table border=\"1\" class=\"dataframe\">\n",
       "  <thead>\n",
       "    <tr style=\"text-align: right;\">\n",
       "      <th></th>\n",
       "      <th>code</th>\n",
       "      <th>start.date</th>\n",
       "      <th>end.date</th>\n",
       "      <th>number</th>\n",
       "      <th>name</th>\n",
       "      <th>ss</th>\n",
       "      <th>track</th>\n",
       "      <th>rf.max</th>\n",
       "    </tr>\n",
       "  </thead>\n",
       "  <tbody>\n",
       "    <tr>\n",
       "      <th>0</th>\n",
       "      <td>Y1852</td>\n",
       "      <td>1852-10-07</td>\n",
       "      <td>1852-10-08</td>\n",
       "      <td>5</td>\n",
       "      <td>NaN</td>\n",
       "      <td>2</td>\n",
       "      <td>O</td>\n",
       "      <td>F1</td>\n",
       "    </tr>\n",
       "    <tr>\n",
       "      <th>1</th>\n",
       "      <td>Y1857</td>\n",
       "      <td>1857-09-28</td>\n",
       "      <td>1857-09-28</td>\n",
       "      <td>4</td>\n",
       "      <td>NaN</td>\n",
       "      <td>2</td>\n",
       "      <td>N</td>\n",
       "      <td>F1</td>\n",
       "    </tr>\n",
       "    <tr>\n",
       "      <th>2</th>\n",
       "      <td>Y1861</td>\n",
       "      <td>1861-08-17</td>\n",
       "      <td>1861-08-17</td>\n",
       "      <td>2</td>\n",
       "      <td>NaN</td>\n",
       "      <td>1</td>\n",
       "      <td>O</td>\n",
       "      <td>Nd</td>\n",
       "    </tr>\n",
       "    <tr>\n",
       "      <th>3</th>\n",
       "      <td>Y1864</td>\n",
       "      <td>1864-08-31</td>\n",
       "      <td>1864-08-31</td>\n",
       "      <td>3</td>\n",
       "      <td>NaN</td>\n",
       "      <td>1</td>\n",
       "      <td>S</td>\n",
       "      <td>F1</td>\n",
       "    </tr>\n",
       "    <tr>\n",
       "      <th>4</th>\n",
       "      <td>Y1865</td>\n",
       "      <td>1865-09-11</td>\n",
       "      <td>1865-09-11</td>\n",
       "      <td>4</td>\n",
       "      <td>NaN</td>\n",
       "      <td>2</td>\n",
       "      <td>O</td>\n",
       "      <td>F1</td>\n",
       "    </tr>\n",
       "    <tr>\n",
       "      <th>...</th>\n",
       "      <td>...</td>\n",
       "      <td>...</td>\n",
       "      <td>...</td>\n",
       "      <td>...</td>\n",
       "      <td>...</td>\n",
       "      <td>...</td>\n",
       "      <td>...</td>\n",
       "      <td>...</td>\n",
       "    </tr>\n",
       "    <tr>\n",
       "      <th>100</th>\n",
       "      <td>Y1995a</td>\n",
       "      <td>1995-10-01</td>\n",
       "      <td>1995-10-03</td>\n",
       "      <td>15</td>\n",
       "      <td>Opal</td>\n",
       "      <td>1</td>\n",
       "      <td>N*</td>\n",
       "      <td>F0</td>\n",
       "    </tr>\n",
       "    <tr>\n",
       "      <th>101</th>\n",
       "      <td>Y1995b</td>\n",
       "      <td>1995-10-10</td>\n",
       "      <td>1995-10-16</td>\n",
       "      <td>17</td>\n",
       "      <td>Roxanne</td>\n",
       "      <td>3</td>\n",
       "      <td>N</td>\n",
       "      <td>F2</td>\n",
       "    </tr>\n",
       "    <tr>\n",
       "      <th>102</th>\n",
       "      <td>Y1996</td>\n",
       "      <td>1996-08-20</td>\n",
       "      <td>1996-08-20</td>\n",
       "      <td>4</td>\n",
       "      <td>Dolly</td>\n",
       "      <td>1</td>\n",
       "      <td>N</td>\n",
       "      <td>F1</td>\n",
       "    </tr>\n",
       "    <tr>\n",
       "      <th>103</th>\n",
       "      <td>Y1998</td>\n",
       "      <td>1998-10-27</td>\n",
       "      <td>1998-10-28</td>\n",
       "      <td>13</td>\n",
       "      <td>Mitch</td>\n",
       "      <td>5</td>\n",
       "      <td>S</td>\n",
       "      <td>F1</td>\n",
       "    </tr>\n",
       "    <tr>\n",
       "      <th>104</th>\n",
       "      <td>Y2000</td>\n",
       "      <td>2000-10-01</td>\n",
       "      <td>2000-10-03</td>\n",
       "      <td>15</td>\n",
       "      <td>Keith</td>\n",
       "      <td>4</td>\n",
       "      <td>S</td>\n",
       "      <td>F2</td>\n",
       "    </tr>\n",
       "  </tbody>\n",
       "</table>\n",
       "<p>105 rows × 8 columns</p>\n",
       "</div>"
      ],
      "text/plain": [
       "       code  start.date    end.date  number     name  ss track rf.max\n",
       "0     Y1852  1852-10-07  1852-10-08       5      NaN   2     O     F1\n",
       "1     Y1857  1857-09-28  1857-09-28       4      NaN   2     N     F1\n",
       "2     Y1861  1861-08-17  1861-08-17       2      NaN   1     O     Nd\n",
       "3     Y1864  1864-08-31  1864-08-31       3      NaN   1     S     F1\n",
       "4     Y1865  1865-09-11  1865-09-11       4      NaN   2     O     F1\n",
       "..      ...         ...         ...     ...      ...  ..   ...    ...\n",
       "100  Y1995a  1995-10-01  1995-10-03      15     Opal   1    N*     F0\n",
       "101  Y1995b  1995-10-10  1995-10-16      17  Roxanne   3     N     F2\n",
       "102   Y1996  1996-08-20  1996-08-20       4    Dolly   1     N     F1\n",
       "103   Y1998  1998-10-27  1998-10-28      13    Mitch   5     S     F1\n",
       "104   Y2000  2000-10-01  2000-10-03      15    Keith   4     S     F2\n",
       "\n",
       "[105 rows x 8 columns]"
      ]
     },
     "execution_count": 2,
     "metadata": {},
     "output_type": "execute_result"
    }
   ],
   "source": [
    "# Read data\n",
    "hurricane = pd.read_csv('data/hf071-01-hurricanes.csv')\n",
    "hurricane"
   ]
  },
  {
   "cell_type": "code",
   "execution_count": 3,
   "id": "5e3eebdf-01cd-467b-bada-a8892f0f38ad",
   "metadata": {
    "tags": []
   },
   "outputs": [
    {
     "data": {
      "text/plain": [
       "(105, 8)"
      ]
     },
     "execution_count": 3,
     "metadata": {},
     "output_type": "execute_result"
    }
   ],
   "source": [
    "# Check dimension of dataframe\n",
    "hurricane.shape"
   ]
  },
  {
   "cell_type": "code",
   "execution_count": 4,
   "id": "a05c8f88-6b08-4c28-b4ae-728f3529e437",
   "metadata": {
    "tags": []
   },
   "outputs": [
    {
     "data": {
      "text/plain": [
       "code          object\n",
       "start.date    object\n",
       "end.date      object\n",
       "number         int64\n",
       "name          object\n",
       "ss             int64\n",
       "track         object\n",
       "rf.max        object\n",
       "dtype: object"
      ]
     },
     "execution_count": 4,
     "metadata": {},
     "output_type": "execute_result"
    }
   ],
   "source": [
    "# Check the data types\n",
    "hurricane.dtypes"
   ]
  },
  {
   "cell_type": "code",
   "execution_count": 5,
   "id": "504f3440-3ff3-4aea-ab89-94ab8671ba27",
   "metadata": {
    "tags": []
   },
   "outputs": [
    {
     "data": {
      "text/plain": [
       "code           0\n",
       "start.date     0\n",
       "end.date       0\n",
       "number         0\n",
       "name          72\n",
       "ss             0\n",
       "track          0\n",
       "rf.max         0\n",
       "dtype: int64"
      ]
     },
     "execution_count": 5,
     "metadata": {},
     "output_type": "execute_result"
    }
   ],
   "source": [
    "# Check the sum of null value in each column\n",
    "hurricane.isnull().sum()"
   ]
  },
  {
   "cell_type": "markdown",
   "id": "90666e60-f3b2-489b-ae12-fe0118e14340",
   "metadata": {},
   "source": [
    "### 3. Brainstorm\n",
    "In this session we want to answer the following question:\n",
    "\n",
    "How many hurricanes with Saffir-Simpson category 5 have been registered and what was their duration?\n",
    "\n",
    "Individually, write down step-by-step instructions on how you would wrangle the df data frame to answer the question. Do not code anything yet. Remember: It’s okay if you don’t know how to code each step. The important thing is to have an idea of what you’d like to do.\n",
    "\n",
    "Discuss your step-by-step instructions with your team. What do you see as potential challenges to implementing your plan?\n",
    "\n",
    "As a team, select an initial data wrangling plan for answering the question."
   ]
  },
  {
   "cell_type": "markdown",
   "id": "2d6cbf08-2f86-4da6-bccd-7b1159608413",
   "metadata": {},
   "source": [
    "#### Brainstorm\n",
    "\n",
    "    a. Change column names\n",
    "    b. Date columns to datetime"
   ]
  },
  {
   "cell_type": "markdown",
   "id": "3e51fa39-1fc6-4a7e-bdbb-217ad1a602e4",
   "metadata": {},
   "source": [
    "### 4. Data wrangling\n",
    "Use your plan as a starting point to answer the question.\n",
    "\n",
    "You may (or not) need to look online to carry out some of the steps in your plan. It is completely fine to seek help online! Resourceful troubleshooting is a key skill in data science.\n",
    "It’s ok if your initial plan changes as you work with the data and discuss challenges with your team! This brainstorm is to create a shared starting point."
   ]
  },
  {
   "cell_type": "code",
   "execution_count": 6,
   "id": "631ca509-0570-4f48-99c1-a1a1e37078aa",
   "metadata": {
    "tags": []
   },
   "outputs": [
    {
     "data": {
      "text/plain": [
       "Index(['code', 'start_date', 'end_date', 'number', 'name', 'ss', 'track',\n",
       "       'rf_max'],\n",
       "      dtype='object')"
      ]
     },
     "execution_count": 6,
     "metadata": {},
     "output_type": "execute_result"
    }
   ],
   "source": [
    "# Change column names\n",
    "hurricane.columns = hurricane.columns.str.replace(\".\", \"_\")\n",
    "hurricane.columns"
   ]
  },
  {
   "cell_type": "code",
   "execution_count": 7,
   "id": "1068f5fb-25ac-4d89-8561-9b2a47360924",
   "metadata": {
    "tags": []
   },
   "outputs": [],
   "source": [
    "# Date columns to datetime\n",
    "hurricane.start_date = pd.to_datetime(hurricane.start_date)\n",
    "hurricane.end_date = pd.to_datetime(hurricane.end_date)"
   ]
  },
  {
   "cell_type": "code",
   "execution_count": 12,
   "id": "ba6d65ab-f09b-4c46-83a0-0952545dd1db",
   "metadata": {
    "tags": []
   },
   "outputs": [
    {
     "data": {
      "text/html": [
       "<div>\n",
       "<style scoped>\n",
       "    .dataframe tbody tr th:only-of-type {\n",
       "        vertical-align: middle;\n",
       "    }\n",
       "\n",
       "    .dataframe tbody tr th {\n",
       "        vertical-align: top;\n",
       "    }\n",
       "\n",
       "    .dataframe thead th {\n",
       "        text-align: right;\n",
       "    }\n",
       "</style>\n",
       "<table border=\"1\" class=\"dataframe\">\n",
       "  <thead>\n",
       "    <tr style=\"text-align: right;\">\n",
       "      <th></th>\n",
       "      <th>code</th>\n",
       "      <th>end_date</th>\n",
       "      <th>number</th>\n",
       "      <th>name</th>\n",
       "      <th>ss</th>\n",
       "      <th>track</th>\n",
       "      <th>rf_max</th>\n",
       "    </tr>\n",
       "    <tr>\n",
       "      <th>start_date</th>\n",
       "      <th></th>\n",
       "      <th></th>\n",
       "      <th></th>\n",
       "      <th></th>\n",
       "      <th></th>\n",
       "      <th></th>\n",
       "      <th></th>\n",
       "    </tr>\n",
       "  </thead>\n",
       "  <tbody>\n",
       "    <tr>\n",
       "      <th>1852-10-07</th>\n",
       "      <td>Y1852</td>\n",
       "      <td>1852-10-08</td>\n",
       "      <td>5</td>\n",
       "      <td>NaN</td>\n",
       "      <td>2</td>\n",
       "      <td>O</td>\n",
       "      <td>F1</td>\n",
       "    </tr>\n",
       "    <tr>\n",
       "      <th>1857-09-28</th>\n",
       "      <td>Y1857</td>\n",
       "      <td>1857-09-28</td>\n",
       "      <td>4</td>\n",
       "      <td>NaN</td>\n",
       "      <td>2</td>\n",
       "      <td>N</td>\n",
       "      <td>F1</td>\n",
       "    </tr>\n",
       "    <tr>\n",
       "      <th>1861-08-17</th>\n",
       "      <td>Y1861</td>\n",
       "      <td>1861-08-17</td>\n",
       "      <td>2</td>\n",
       "      <td>NaN</td>\n",
       "      <td>1</td>\n",
       "      <td>O</td>\n",
       "      <td>Nd</td>\n",
       "    </tr>\n",
       "    <tr>\n",
       "      <th>1864-08-31</th>\n",
       "      <td>Y1864</td>\n",
       "      <td>1864-08-31</td>\n",
       "      <td>3</td>\n",
       "      <td>NaN</td>\n",
       "      <td>1</td>\n",
       "      <td>S</td>\n",
       "      <td>F1</td>\n",
       "    </tr>\n",
       "    <tr>\n",
       "      <th>1865-09-11</th>\n",
       "      <td>Y1865</td>\n",
       "      <td>1865-09-11</td>\n",
       "      <td>4</td>\n",
       "      <td>NaN</td>\n",
       "      <td>2</td>\n",
       "      <td>O</td>\n",
       "      <td>F1</td>\n",
       "    </tr>\n",
       "    <tr>\n",
       "      <th>...</th>\n",
       "      <td>...</td>\n",
       "      <td>...</td>\n",
       "      <td>...</td>\n",
       "      <td>...</td>\n",
       "      <td>...</td>\n",
       "      <td>...</td>\n",
       "      <td>...</td>\n",
       "    </tr>\n",
       "    <tr>\n",
       "      <th>1995-10-01</th>\n",
       "      <td>Y1995a</td>\n",
       "      <td>1995-10-03</td>\n",
       "      <td>15</td>\n",
       "      <td>Opal</td>\n",
       "      <td>1</td>\n",
       "      <td>N*</td>\n",
       "      <td>F0</td>\n",
       "    </tr>\n",
       "    <tr>\n",
       "      <th>1995-10-10</th>\n",
       "      <td>Y1995b</td>\n",
       "      <td>1995-10-16</td>\n",
       "      <td>17</td>\n",
       "      <td>Roxanne</td>\n",
       "      <td>3</td>\n",
       "      <td>N</td>\n",
       "      <td>F2</td>\n",
       "    </tr>\n",
       "    <tr>\n",
       "      <th>1996-08-20</th>\n",
       "      <td>Y1996</td>\n",
       "      <td>1996-08-20</td>\n",
       "      <td>4</td>\n",
       "      <td>Dolly</td>\n",
       "      <td>1</td>\n",
       "      <td>N</td>\n",
       "      <td>F1</td>\n",
       "    </tr>\n",
       "    <tr>\n",
       "      <th>1998-10-27</th>\n",
       "      <td>Y1998</td>\n",
       "      <td>1998-10-28</td>\n",
       "      <td>13</td>\n",
       "      <td>Mitch</td>\n",
       "      <td>5</td>\n",
       "      <td>S</td>\n",
       "      <td>F1</td>\n",
       "    </tr>\n",
       "    <tr>\n",
       "      <th>2000-10-01</th>\n",
       "      <td>Y2000</td>\n",
       "      <td>2000-10-03</td>\n",
       "      <td>15</td>\n",
       "      <td>Keith</td>\n",
       "      <td>4</td>\n",
       "      <td>S</td>\n",
       "      <td>F2</td>\n",
       "    </tr>\n",
       "  </tbody>\n",
       "</table>\n",
       "<p>105 rows × 7 columns</p>\n",
       "</div>"
      ],
      "text/plain": [
       "              code   end_date  number     name  ss track rf_max\n",
       "start_date                                                     \n",
       "1852-10-07   Y1852 1852-10-08       5      NaN   2     O     F1\n",
       "1857-09-28   Y1857 1857-09-28       4      NaN   2     N     F1\n",
       "1861-08-17   Y1861 1861-08-17       2      NaN   1     O     Nd\n",
       "1864-08-31   Y1864 1864-08-31       3      NaN   1     S     F1\n",
       "1865-09-11   Y1865 1865-09-11       4      NaN   2     O     F1\n",
       "...            ...        ...     ...      ...  ..   ...    ...\n",
       "1995-10-01  Y1995a 1995-10-03      15     Opal   1    N*     F0\n",
       "1995-10-10  Y1995b 1995-10-16      17  Roxanne   3     N     F2\n",
       "1996-08-20   Y1996 1996-08-20       4    Dolly   1     N     F1\n",
       "1998-10-27   Y1998 1998-10-28      13    Mitch   5     S     F1\n",
       "2000-10-01   Y2000 2000-10-03      15    Keith   4     S     F2\n",
       "\n",
       "[105 rows x 7 columns]"
      ]
     },
     "execution_count": 12,
     "metadata": {},
     "output_type": "execute_result"
    }
   ],
   "source": [
    "# Change start date tio index\n",
    "hurricane_index = hurricane.set_index('start_date')\n",
    "hurricane_index"
   ]
  },
  {
   "cell_type": "markdown",
   "id": "2ccad7f4-d369-4938-ac61-9b97bfde834a",
   "metadata": {},
   "source": [
    "### 5. Visualize Saffir-Simpson categories across time\n",
    "Create a scatter plot of the start date of the hurricanes against the Saffir-Simpson scale. Use matplotlib to customize your graph, including updating the tick labels to be only 1, 2, 3, 4, and 5 since the Saffir-Simpsn scale does not take decimal values.\n",
    "\n",
    "Analyze your plot and write (in full sentences!) any trends that you observe."
   ]
  },
  {
   "cell_type": "code",
   "execution_count": null,
   "id": "85bc398c-3d30-48c6-855e-e07bdaf8abad",
   "metadata": {},
   "outputs": [],
   "source": [
    "# Plot"
   ]
  },
  {
   "cell_type": "code",
   "execution_count": 19,
   "id": "bf070e30-a6d6-45ce-9d47-11167eda0632",
   "metadata": {
    "tags": []
   },
   "outputs": [
    {
     "ename": "AttributeError",
     "evalue": "'DataFrame' object has no attribute 'to_dataframe'",
     "output_type": "error",
     "traceback": [
      "\u001b[0;31m---------------------------------------------------------------------------\u001b[0m",
      "\u001b[0;31mAttributeError\u001b[0m                            Traceback (most recent call last)",
      "\u001b[0;32m/tmp/ipykernel_3290576/113117453.py\u001b[0m in \u001b[0;36m?\u001b[0;34m()\u001b[0m\n\u001b[1;32m      1\u001b[0m \u001b[0;31m#hurricane_index[['hurricane']].plot(ylabel = 'number',\u001b[0m\u001b[0;34m\u001b[0m\u001b[0;34m\u001b[0m\u001b[0m\n\u001b[1;32m      2\u001b[0m                                  \u001b[0;31m#xlabel = 'start_date')\u001b[0m\u001b[0;34m\u001b[0m\u001b[0;34m\u001b[0m\u001b[0m\n\u001b[1;32m      3\u001b[0m \u001b[0;34m\u001b[0m\u001b[0m\n\u001b[1;32m      4\u001b[0m \u001b[0;34m\u001b[0m\u001b[0m\n\u001b[0;32m----> 5\u001b[0;31m \u001b[0mhurricane_date\u001b[0m \u001b[0;34m=\u001b[0m \u001b[0mhurricane\u001b[0m\u001b[0;34m.\u001b[0m\u001b[0mto_dataframe\u001b[0m\u001b[0;34m(\u001b[0m\u001b[0;34m)\u001b[0m\u001b[0;34m\u001b[0m\u001b[0;34m\u001b[0m\u001b[0m\n\u001b[0m\u001b[1;32m      6\u001b[0m hurricane_date.plot(kind='hexbin',\n\u001b[1;32m      7\u001b[0m                     \u001b[0mx\u001b[0m\u001b[0;34m=\u001b[0m\u001b[0;34m'Year'\u001b[0m\u001b[0;34m,\u001b[0m\u001b[0;34m\u001b[0m\u001b[0;34m\u001b[0m\u001b[0m\n\u001b[1;32m      8\u001b[0m                     \u001b[0my\u001b[0m\u001b[0;34m=\u001b[0m\u001b[0;34m'start_date'\u001b[0m\u001b[0;34m,\u001b[0m\u001b[0;34m\u001b[0m\u001b[0;34m\u001b[0m\u001b[0m\n",
      "\u001b[0;32m/opt/anaconda3/envs/eds220-env/lib/python3.11/site-packages/pandas/core/generic.py\u001b[0m in \u001b[0;36m?\u001b[0;34m(self, name)\u001b[0m\n\u001b[1;32m   6295\u001b[0m             \u001b[0;32mand\u001b[0m \u001b[0mname\u001b[0m \u001b[0;32mnot\u001b[0m \u001b[0;32min\u001b[0m \u001b[0mself\u001b[0m\u001b[0;34m.\u001b[0m\u001b[0m_accessors\u001b[0m\u001b[0;34m\u001b[0m\u001b[0;34m\u001b[0m\u001b[0m\n\u001b[1;32m   6296\u001b[0m             \u001b[0;32mand\u001b[0m \u001b[0mself\u001b[0m\u001b[0;34m.\u001b[0m\u001b[0m_info_axis\u001b[0m\u001b[0;34m.\u001b[0m\u001b[0m_can_hold_identifiers_and_holds_name\u001b[0m\u001b[0;34m(\u001b[0m\u001b[0mname\u001b[0m\u001b[0;34m)\u001b[0m\u001b[0;34m\u001b[0m\u001b[0;34m\u001b[0m\u001b[0m\n\u001b[1;32m   6297\u001b[0m         ):\n\u001b[1;32m   6298\u001b[0m             \u001b[0;32mreturn\u001b[0m \u001b[0mself\u001b[0m\u001b[0;34m[\u001b[0m\u001b[0mname\u001b[0m\u001b[0;34m]\u001b[0m\u001b[0;34m\u001b[0m\u001b[0;34m\u001b[0m\u001b[0m\n\u001b[0;32m-> 6299\u001b[0;31m         \u001b[0;32mreturn\u001b[0m \u001b[0mobject\u001b[0m\u001b[0;34m.\u001b[0m\u001b[0m__getattribute__\u001b[0m\u001b[0;34m(\u001b[0m\u001b[0mself\u001b[0m\u001b[0;34m,\u001b[0m \u001b[0mname\u001b[0m\u001b[0;34m)\u001b[0m\u001b[0;34m\u001b[0m\u001b[0;34m\u001b[0m\u001b[0m\n\u001b[0m",
      "\u001b[0;31mAttributeError\u001b[0m: 'DataFrame' object has no attribute 'to_dataframe'"
     ]
    }
   ],
   "source": [
    "#hurricane_index[['hurricane']].plot(ylabel = 'number',\n",
    "                                 #xlabel = 'start_date')\n"
   ]
  }
 ],
 "metadata": {
  "kernelspec": {
   "display_name": "EDS220",
   "language": "python",
   "name": "eds220-env"
  },
  "language_info": {
   "codemirror_mode": {
    "name": "ipython",
    "version": 3
   },
   "file_extension": ".py",
   "mimetype": "text/x-python",
   "name": "python",
   "nbconvert_exporter": "python",
   "pygments_lexer": "ipython3",
   "version": "3.11.4"
  }
 },
 "nbformat": 4,
 "nbformat_minor": 5
}
